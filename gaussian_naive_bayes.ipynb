{
 "cells": [
  {
   "cell_type": "code",
   "execution_count": 1,
   "id": "bf2847f8",
   "metadata": {},
   "outputs": [],
   "source": [
    "import os\n",
    "import math\n",
    "from PIL import Image\n",
    "import random"
   ]
  },
  {
   "cell_type": "code",
   "execution_count": 2,
   "id": "468d818a",
   "metadata": {},
   "outputs": [],
   "source": [
    "def extract_features(image_path, size=(8, 8)):\n",
    "    image = Image.open(image_path).convert('L')  # ubah ke grayscale\n",
    "    image = image.resize(size)\n",
    "    pixels = list(image.getdata())  # list of pixel values\n",
    "    return pixels"
   ]
  },
  {
   "cell_type": "code",
   "execution_count": 3,
   "id": "cb3fc56f",
   "metadata": {},
   "outputs": [],
   "source": [
    "def load_dataset(dataset_path):\n",
    "    data = []\n",
    "    for label in os.listdir(dataset_path):\n",
    "        label_path = os.path.join(dataset_path, label)\n",
    "        if not os.path.isdir(label_path): continue\n",
    "        for filename in os.listdir(label_path):\n",
    "            if filename.lower().endswith(('.jpg', '.jpeg', '.png')):\n",
    "                image_path = os.path.join(label_path, filename)\n",
    "                features = extract_features(image_path)\n",
    "                data.append({'label': label, 'features': features})\n",
    "    return data"
   ]
  },
  {
   "cell_type": "code",
   "execution_count": 4,
   "id": "ab465f06",
   "metadata": {},
   "outputs": [],
   "source": [
    "def split_data(data, split_ratio=0.8):\n",
    "    random.shuffle(data)\n",
    "    split_point = int(len(data) * split_ratio)\n",
    "    return data[:split_point], data[split_point:]"
   ]
  },
  {
   "cell_type": "code",
   "execution_count": 5,
   "id": "80958587",
   "metadata": {},
   "outputs": [],
   "source": [
    "def mean(values):\n",
    "    return sum(values) / len(values)\n",
    "\n",
    "def stddev(values, mean_val):\n",
    "    variance = sum((x - mean_val) ** 2 for x in values) / len(values)\n",
    "    return math.sqrt(variance)"
   ]
  },
  {
   "cell_type": "code",
   "execution_count": 6,
   "id": "9bdaa7e7",
   "metadata": {},
   "outputs": [],
   "source": [
    "def summarize_by_class(dataset):\n",
    "    summaries = {}\n",
    "    separated = {}\n",
    "\n",
    "    for row in dataset:\n",
    "        label = row['label']\n",
    "        if label not in separated:\n",
    "            separated[label] = []\n",
    "        separated[label].append(row['features'])\n",
    "\n",
    "    for label, features_list in separated.items():\n",
    "        summaries[label] = []\n",
    "        for i in range(len(features_list[0])):\n",
    "            col = [row[i] for row in features_list]\n",
    "            mean_val = mean(col)\n",
    "            std_val = stddev(col, mean_val)\n",
    "            summaries[label].append((mean_val, std_val))\n",
    "    return summaries"
   ]
  },
  {
   "cell_type": "code",
   "execution_count": 7,
   "id": "afd2541d",
   "metadata": {},
   "outputs": [],
   "source": [
    "def gaussian_prob(x, mean, std):\n",
    "    if std == 0:\n",
    "        return 1 if x == mean else 0\n",
    "    exp = math.exp(-((x - mean) ** 2) / (2 * std ** 2))\n",
    "    return (1 / (math.sqrt(2 * math.pi) * std)) * exp"
   ]
  },
  {
   "cell_type": "code",
   "execution_count": 8,
   "id": "0c8ab957",
   "metadata": {},
   "outputs": [],
   "source": [
    "def calculate_class_probabilities(summaries, input_vector):\n",
    "    probabilities = {}\n",
    "    for label, class_summaries in summaries.items():\n",
    "        probabilities[label] = 1\n",
    "        for i in range(len(class_summaries)):\n",
    "            mean, std = class_summaries[i]\n",
    "            x = input_vector[i]\n",
    "            prob = gaussian_prob(x, mean, std)\n",
    "            probabilities[label] *= prob\n",
    "    return probabilities\n",
    "\n",
    "def predict(summaries, input_vector):\n",
    "    probs = calculate_class_probabilities(summaries, input_vector)\n",
    "    return max(probs, key=probs.get)"
   ]
  },
  {
   "cell_type": "code",
   "execution_count": 9,
   "id": "1bd0cd87",
   "metadata": {},
   "outputs": [
    {
     "name": "stdout",
     "output_type": "stream",
     "text": [
      "Jumlah data train: 211, test: 53\n",
      "\n",
      "[1] Asli: sedih      → Prediksi: sedih     \n",
      "[2] Asli: marah      → Prediksi: senang    \n",
      "[3] Asli: sedih      → Prediksi: marah     \n",
      "[4] Asli: marah      → Prediksi: marah     \n",
      "[5] Asli: marah      → Prediksi: marah     \n",
      "[6] Asli: sedih      → Prediksi: sedih     \n",
      "[7] Asli: senang     → Prediksi: marah     \n",
      "[8] Asli: marah      → Prediksi: sedih     \n",
      "[9] Asli: sedih      → Prediksi: sedih     \n",
      "[10] Asli: marah      → Prediksi: senang    \n",
      "[11] Asli: senang     → Prediksi: senang    \n",
      "[12] Asli: sedih      → Prediksi: sedih     \n",
      "[13] Asli: marah      → Prediksi: senang    \n",
      "[14] Asli: senang     → Prediksi: senang    \n",
      "[15] Asli: senang     → Prediksi: sedih     \n",
      "[16] Asli: senang     → Prediksi: senang    \n",
      "[17] Asli: senang     → Prediksi: senang    \n",
      "[18] Asli: sedih      → Prediksi: senang    \n",
      "[19] Asli: senang     → Prediksi: senang    \n",
      "[20] Asli: sedih      → Prediksi: sedih     \n",
      "[21] Asli: marah      → Prediksi: marah     \n",
      "[22] Asli: sedih      → Prediksi: marah     \n",
      "[23] Asli: sedih      → Prediksi: sedih     \n",
      "[24] Asli: senang     → Prediksi: marah     \n",
      "[25] Asli: marah      → Prediksi: sedih     \n",
      "[26] Asli: senang     → Prediksi: senang    \n",
      "[27] Asli: marah      → Prediksi: senang    \n",
      "[28] Asli: senang     → Prediksi: senang    \n",
      "[29] Asli: sedih      → Prediksi: senang    \n",
      "[30] Asli: marah      → Prediksi: marah     \n",
      "[31] Asli: senang     → Prediksi: senang    \n",
      "[32] Asli: sedih      → Prediksi: marah     \n",
      "[33] Asli: marah      → Prediksi: marah     \n",
      "[34] Asli: senang     → Prediksi: senang    \n",
      "[35] Asli: sedih      → Prediksi: marah     \n",
      "[36] Asli: marah      → Prediksi: senang    \n",
      "[37] Asli: senang     → Prediksi: sedih     \n",
      "[38] Asli: sedih      → Prediksi: sedih     \n",
      "[39] Asli: sedih      → Prediksi: sedih     \n",
      "[40] Asli: senang     → Prediksi: senang    \n",
      "[41] Asli: sedih      → Prediksi: marah     \n",
      "[42] Asli: senang     → Prediksi: senang    \n",
      "[43] Asli: senang     → Prediksi: sedih     \n",
      "[44] Asli: senang     → Prediksi: senang    \n",
      "[45] Asli: senang     → Prediksi: senang    \n",
      "[46] Asli: senang     → Prediksi: sedih     \n",
      "[47] Asli: senang     → Prediksi: sedih     \n",
      "[48] Asli: marah      → Prediksi: sedih     \n",
      "[49] Asli: senang     → Prediksi: senang    \n",
      "[50] Asli: senang     → Prediksi: sedih     \n",
      "[51] Asli: marah      → Prediksi: marah     \n",
      "[52] Asli: senang     → Prediksi: sedih     \n",
      "[53] Asli: senang     → Prediksi: senang    \n",
      "\n",
      "🎯 Akurasi: 54.72%\n"
     ]
    }
   ],
   "source": [
    "if __name__ == \"__main__\":\n",
    "    dataset_path = \"dataset\"\n",
    "    data = load_dataset(dataset_path)\n",
    "\n",
    "    if len(data) < 2:\n",
    "        print(\"Dataset terlalu sedikit ngab. Tambahin beberapa gambar lagi.\")\n",
    "        exit()\n",
    "\n",
    "    train_data, test_data = split_data(data)\n",
    "    model = summarize_by_class(train_data)\n",
    "\n",
    "    print(f\"Jumlah data train: {len(train_data)}, test: {len(test_data)}\\n\")\n",
    "    benar = 0\n",
    "    log_lines = []\n",
    "\n",
    "    for i, test in enumerate(test_data):\n",
    "        pred = predict(model, test['features'])\n",
    "        actual = test['label']\n",
    "        if pred == actual:\n",
    "            benar += 1\n",
    "        line = f\"[{i+1}] Asli: {actual:10s} → Prediksi: {pred:10s}\"\n",
    "        print(line)\n",
    "        log_lines.append(line)\n",
    "\n",
    "    akurasi = benar / len(test_data) * 100\n",
    "    akurasi_line = f\"\\n🎯 Akurasi: {akurasi:.2f}%\"\n",
    "    print(akurasi_line)\n",
    "    log_lines.append(akurasi_line)\n",
    "\n",
    "    # Simpan ke file hasil_prediksi.txt\n",
    "    with open(\"hasil_prediksi.txt\", \"w\", encoding=\"utf-8\") as f:\n",
    "        for line in log_lines:\n",
    "            f.write(line + \"\\n\")"
   ]
  }
 ],
 "metadata": {
  "kernelspec": {
   "display_name": "Python 3",
   "language": "python",
   "name": "python3"
  },
  "language_info": {
   "codemirror_mode": {
    "name": "ipython",
    "version": 3
   },
   "file_extension": ".py",
   "mimetype": "text/x-python",
   "name": "python",
   "nbconvert_exporter": "python",
   "pygments_lexer": "ipython3",
   "version": "3.13.2"
  }
 },
 "nbformat": 4,
 "nbformat_minor": 5
}
