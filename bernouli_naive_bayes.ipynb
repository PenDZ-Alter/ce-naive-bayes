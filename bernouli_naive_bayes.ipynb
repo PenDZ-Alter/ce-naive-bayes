{
 "cells": [
  {
   "cell_type": "code",
   "execution_count": 9,
   "id": "6968ecb1",
   "metadata": {},
   "outputs": [],
   "source": [
    "import os\n",
    "import random\n",
    "import math\n",
    "from PIL import Image\n",
    "import numpy as np"
   ]
  },
  {
   "cell_type": "code",
   "execution_count": 10,
   "id": "62ba9422",
   "metadata": {},
   "outputs": [],
   "source": [
    "def extract_binary_features(image_path, size=(16, 16), threshold=128):\n",
    "    image = Image.open(image_path).convert(\"L\").resize(size)\n",
    "    data = np.array(image)\n",
    "    binary = (data > threshold).astype(int)\n",
    "    return binary.flatten().tolist()"
   ]
  },
  {
   "cell_type": "code",
   "execution_count": 11,
   "id": "db439c4a",
   "metadata": {},
   "outputs": [],
   "source": [
    "def load_dataset_binary(dataset_path):\n",
    "    data = []\n",
    "    for label in os.listdir(dataset_path):\n",
    "        label_path = os.path.join(dataset_path, label)\n",
    "        if not os.path.isdir(label_path): continue\n",
    "        for filename in os.listdir(label_path):\n",
    "            if filename.lower().endswith(('.jpg', '.jpeg', '.png')):\n",
    "                path = os.path.join(label_path, filename)\n",
    "                features = extract_binary_features(path)\n",
    "                data.append({'label': label, 'features': features, 'filename': filename})\n",
    "    return data"
   ]
  },
  {
   "cell_type": "code",
   "execution_count": 12,
   "id": "585ef44e",
   "metadata": {},
   "outputs": [],
   "source": [
    "def train_naive_bayes_binary(data):\n",
    "    model = {}\n",
    "    total_per_class = {}\n",
    "    for sample in data:\n",
    "        label = sample['label']\n",
    "        if label not in model:\n",
    "            model[label] = {'counts': [ [0, 0] for _ in range(len(sample['features'])) ]}\n",
    "            total_per_class[label] = 0\n",
    "        total_per_class[label] += 1\n",
    "        for i, val in enumerate(sample['features']):\n",
    "            model[label]['counts'][i][val] += 1  # val = 0 or 1\n",
    "    model['total'] = sum(total_per_class.values())\n",
    "    model['per_class'] = total_per_class\n",
    "    return model"
   ]
  },
  {
   "cell_type": "code",
   "execution_count": 13,
   "id": "5dfbced3",
   "metadata": {},
   "outputs": [],
   "source": [
    "def predict_binary(model, features):\n",
    "    max_prob = -math.inf\n",
    "    best_label = None\n",
    "\n",
    "    for label, data in model.items():\n",
    "        if label == 'total' or label == 'per_class': continue\n",
    "        log_prob = math.log(model['per_class'][label] / model['total'])  # prior\n",
    "        for i, val in enumerate(features):\n",
    "            count_0, count_1 = data['counts'][i]\n",
    "            total = count_0 + count_1\n",
    "            if total == 0:\n",
    "                prob = 0.5  # default\n",
    "            else:\n",
    "                prob = (count_1 if val == 1 else count_0) / total\n",
    "            log_prob += math.log(prob + 1e-6)  # biar ga log(0)\n",
    "        if log_prob > max_prob:\n",
    "            max_prob = log_prob\n",
    "            best_label = label\n",
    "    return best_label\n"
   ]
  },
  {
   "cell_type": "code",
   "execution_count": 14,
   "id": "f80e9382",
   "metadata": {},
   "outputs": [],
   "source": [
    "def evaluate_binary_model(model, test_data):\n",
    "    benar = 0\n",
    "    for i, sample in enumerate(test_data):\n",
    "        pred = predict_binary(model, sample['features'])\n",
    "        actual = sample['label']\n",
    "        if pred == actual:\n",
    "            benar += 1\n",
    "        print(f\"[{i+1}] File: {sample['filename']:20s} | Asli: {actual:10s} → Prediksi: {pred:10s}\")\n",
    "    akurasi = benar / len(test_data) * 100\n",
    "    print(f\"\\n🎯 Akurasi: {akurasi:.2f}%\")"
   ]
  },
  {
   "cell_type": "code",
   "execution_count": 15,
   "id": "799cfba1",
   "metadata": {},
   "outputs": [
    {
     "name": "stdout",
     "output_type": "stream",
     "text": [
      "[1] File: CC_HE_1221887081_SituationalDepression-650x428.jpg | Asli: sedih      → Prediksi: sedih     \n",
      "[2] File: angry-people-screaming-260nw-292800785.jpg | Asli: marah      → Prediksi: senang    \n",
      "[3] File: Angry-Person-PNG-Free-Download.png | Asli: marah      → Prediksi: marah     \n",
      "[4] File: 640px-Crying-girl.jpg | Asli: sedih      → Prediksi: sedih     \n",
      "[5] File: png-transparent-boxing-man-people-an-angry-person-the-man.png | Asli: marah      → Prediksi: marah     \n",
      "[6] File: 81Vk4C.jpg           | Asli: senang     → Prediksi: senang    \n",
      "[7] File: 35438_hd.jpg         | Asli: senang     → Prediksi: senang    \n",
      "[8] File: Anger_Controlls_Him.jpg | Asli: marah      → Prediksi: sedih     \n",
      "[9] File: happy-people2.jpg    | Asli: senang     → Prediksi: marah     \n",
      "[10] File: man-portrait-contemplative-sad-looking-at-camera-732x549-thumbnail.jpg | Asli: sedih      → Prediksi: sedih     \n",
      "[11] File: happy-people12.jpg   | Asli: senang     → Prediksi: marah     \n",
      "[12] File: Depositphotos_6311024_XL-1.jpg | Asli: marah      → Prediksi: marah     \n",
      "[13] File: 2560px-Happy_People.jpg | Asli: senang     → Prediksi: senang    \n",
      "[14] File: friends-happy-190821.jpg | Asli: senang     → Prediksi: sedih     \n",
      "[15] File: sad-man-holding-head-with-hand_1150-6345.jpg | Asli: sedih      → Prediksi: sedih     \n",
      "[16] File: iStock_000010998923XSmall.jpg | Asli: marah      → Prediksi: senang    \n",
      "[17] File: two-angry-business-people-staring-each-other-across-table-31133311.jpg | Asli: marah      → Prediksi: marah     \n",
      "[18] File: 1564075.jpg          | Asli: marah      → Prediksi: marah     \n",
      "[19] File: coronavirus-depression-hero.jpg | Asli: sedih      → Prediksi: sedih     \n",
      "[20] File: 09-113216-depressed_people_listen_to_sad_music_to_calm_and_uplift_says_study.jpg | Asli: sedih      → Prediksi: sedih     \n",
      "[21] File: friends_190412.jpg   | Asli: senang     → Prediksi: sedih     \n",
      "[22] File: 73705bd7debb66c2afc780a22c223804.jpg | Asli: sedih      → Prediksi: sedih     \n",
      "[23] File: where-to-watch-shiny-happy-people.jpg | Asli: senang     → Prediksi: senang    \n",
      "[24] File: Happy.jpg            | Asli: senang     → Prediksi: sedih     \n",
      "[25] File: depression-1020x680.jpg | Asli: sedih      → Prediksi: sedih     \n",
      "[26] File: hand-drawn-happy-people-jumping_23-2149092878.jpg | Asli: senang     → Prediksi: marah     \n",
      "[27] File: happy-person.jpeg    | Asli: senang     → Prediksi: sedih     \n",
      "[28] File: vector-sad-man-sitting-silhouette.jpg | Asli: sedih      → Prediksi: marah     \n",
      "[29] File: 5acf9ed1146e711e008b46d7.jpg | Asli: sedih      → Prediksi: sedih     \n",
      "[30] File: 0346f330983a068db0633f96d4a13de873-06-angry.rsquare.w700.jpg | Asli: marah      → Prediksi: senang    \n",
      "[31] File: png-transparent-graphy-happy-people-love-child-photography-thumbnail.png | Asli: senang     → Prediksi: senang    \n",
      "[32] File: How-To-Make-Someone-Happy-When-Theyre-Sad.jpg | Asli: sedih      → Prediksi: sedih     \n",
      "[33] File: angry-complaining-group-business-people-260nw-1921199924.jpg | Asli: marah      → Prediksi: sedih     \n",
      "[34] File: 800px-Angry-2766265_960_720.jpg | Asli: marah      → Prediksi: sedih     \n",
      "[35] File: dark-depression-mood-people-wallpaper-preview.jpg | Asli: sedih      → Prediksi: senang    \n",
      "[36] File: _happy_jumping_on_beach-40815.jpg | Asli: senang     → Prediksi: senang    \n",
      "[37] File: Angry-People.jpg     | Asli: marah      → Prediksi: marah     \n",
      "[38] File: Happiness-Habits-10-Things-Happy-People-Do-Before-Bed.jpg | Asli: senang     → Prediksi: marah     \n",
      "[39] File: 20201112-Alexithymia-844.jpg | Asli: sedih      → Prediksi: sedih     \n",
      "[40] File: screen-shot-2014-07-31-at-6-09-12-pm.png | Asli: sedih      → Prediksi: sedih     \n",
      "[41] File: young-woman-in-knitted-jumper-looks-pensive.jpg | Asli: marah      → Prediksi: sedih     \n",
      "[42] File: physed-happiness-videoSixteenByNine3000.jpg | Asli: senang     → Prediksi: senang    \n",
      "[43] File: image18.jpeg         | Asli: sedih      → Prediksi: marah     \n",
      "[44] File: sue.jpg              | Asli: sedih      → Prediksi: sedih     \n",
      "[45] File: happy-people.jpg     | Asli: senang     → Prediksi: marah     \n",
      "[46] File: Sad-man-being-consoled-by-friends-in-group-therapy.jpg | Asli: sedih      → Prediksi: sedih     \n",
      "[47] File: 766x415_Depression_vs_Sadness-1-732x415.jpg | Asli: sedih      → Prediksi: sedih     \n",
      "[48] File: happiness.jpg        | Asli: senang     → Prediksi: senang    \n",
      "[49] File: Angry-Person-PNG-Pic.png | Asli: marah      → Prediksi: sedih     \n",
      "[50] File: image-abb14c85-dab7-4451-9278-74ef612db2d8.jpg | Asli: marah      → Prediksi: sedih     \n",
      "[51] File: compassion-900x387.jpg | Asli: senang     → Prediksi: marah     \n",
      "[52] File: guilherme-stecanella-375176-unsplash.jpg | Asli: senang     → Prediksi: sedih     \n",
      "[53] File: A_Sep20_14_1189155141.jpg | Asli: senang     → Prediksi: marah     \n",
      "\n",
      "🎯 Akurasi: 54.72%\n"
     ]
    }
   ],
   "source": [
    "if __name__ == \"__main__\":\n",
    "    dataset_path = \"dataset\"\n",
    "    data = load_dataset_binary(dataset_path)\n",
    "    random.shuffle(data)\n",
    "\n",
    "    split = int(0.8 * len(data))\n",
    "    train_data = data[:split]\n",
    "    test_data = data[split:]\n",
    "\n",
    "    model = train_naive_bayes_binary(train_data)\n",
    "    evaluate_binary_model(model, test_data)"
   ]
  }
 ],
 "metadata": {
  "kernelspec": {
   "display_name": "Python 3",
   "language": "python",
   "name": "python3"
  },
  "language_info": {
   "codemirror_mode": {
    "name": "ipython",
    "version": 3
   },
   "file_extension": ".py",
   "mimetype": "text/x-python",
   "name": "python",
   "nbconvert_exporter": "python",
   "pygments_lexer": "ipython3",
   "version": "3.12.8"
  }
 },
 "nbformat": 4,
 "nbformat_minor": 5
}
