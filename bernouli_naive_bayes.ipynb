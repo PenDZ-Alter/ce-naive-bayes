{
 "cells": [
  {
   "cell_type": "code",
   "execution_count": 1,
   "id": "6968ecb1",
   "metadata": {},
   "outputs": [],
   "source": [
    "import os\n",
    "import random\n",
    "import math\n",
    "from PIL import Image\n",
    "import numpy as np"
   ]
  },
  {
   "cell_type": "code",
   "execution_count": 2,
   "id": "62ba9422",
   "metadata": {},
   "outputs": [],
   "source": [
    "def extract_binary_features(image_path, size=(16, 16), threshold=128):\n",
    "    image = Image.open(image_path).convert(\"L\").resize(size)\n",
    "    data = np.array(image)\n",
    "    binary = (data > threshold).astype(int)\n",
    "    return binary.flatten().tolist()"
   ]
  },
  {
   "cell_type": "code",
   "execution_count": 3,
   "id": "db439c4a",
   "metadata": {},
   "outputs": [],
   "source": [
    "def load_dataset_binary(dataset_path):\n",
    "    data = []\n",
    "    for label in os.listdir(dataset_path):\n",
    "        label_path = os.path.join(dataset_path, label)\n",
    "        if not os.path.isdir(label_path): continue\n",
    "        for filename in os.listdir(label_path):\n",
    "            if filename.lower().endswith(('.jpg', '.jpeg', '.png')):\n",
    "                path = os.path.join(label_path, filename)\n",
    "                features = extract_binary_features(path)\n",
    "                data.append({'label': label, 'features': features, 'filename': filename})\n",
    "    return data"
   ]
  },
  {
   "cell_type": "code",
   "execution_count": 4,
   "id": "585ef44e",
   "metadata": {},
   "outputs": [],
   "source": [
    "def train_naive_bayes_binary(data):\n",
    "    model = {}\n",
    "    total_per_class = {}\n",
    "    for sample in data:\n",
    "        label = sample['label']\n",
    "        if label not in model:\n",
    "            model[label] = {'counts': [ [0, 0] for _ in range(len(sample['features'])) ]}\n",
    "            total_per_class[label] = 0\n",
    "        total_per_class[label] += 1\n",
    "        for i, val in enumerate(sample['features']):\n",
    "            model[label]['counts'][i][val] += 1  # val = 0 or 1\n",
    "    model['total'] = sum(total_per_class.values())\n",
    "    model['per_class'] = total_per_class\n",
    "    return model"
   ]
  },
  {
   "cell_type": "code",
   "execution_count": 5,
   "id": "5dfbced3",
   "metadata": {},
   "outputs": [],
   "source": [
    "def predict_binary(model, features):\n",
    "    max_prob = -math.inf\n",
    "    best_label = None\n",
    "\n",
    "    for label, data in model.items():\n",
    "        if label == 'total' or label == 'per_class': continue\n",
    "        log_prob = math.log(model['per_class'][label] / model['total'])  # prior\n",
    "        for i, val in enumerate(features):\n",
    "            count_0, count_1 = data['counts'][i]\n",
    "            total = count_0 + count_1\n",
    "            if total == 0:\n",
    "                prob = 0.5  # default\n",
    "            else:\n",
    "                prob = (count_1 if val == 1 else count_0) / total\n",
    "            log_prob += math.log(prob + 1e-6)  # biar ga log(0)\n",
    "        if log_prob > max_prob:\n",
    "            max_prob = log_prob\n",
    "            best_label = label\n",
    "    return best_label\n"
   ]
  },
  {
   "cell_type": "code",
   "execution_count": 6,
   "id": "f80e9382",
   "metadata": {},
   "outputs": [],
   "source": [
    "def evaluate_binary_model(model, test_data):\n",
    "    benar = 0\n",
    "    for i, sample in enumerate(test_data):\n",
    "        pred = predict_binary(model, sample['features'])\n",
    "        actual = sample['label']\n",
    "        if pred == actual:\n",
    "            benar += 1\n",
    "        print(f\"[{i+1}] File: {sample['filename']:20s} | Asli: {actual:10s} → Prediksi: {pred:10s}\")\n",
    "    akurasi = benar / len(test_data) * 100\n",
    "    print(f\"\\n🎯 Akurasi: {akurasi:.2f}%\")"
   ]
  },
  {
   "cell_type": "code",
   "execution_count": 7,
   "id": "799cfba1",
   "metadata": {},
   "outputs": [
    {
     "name": "stdout",
     "output_type": "stream",
     "text": [
      "[1] File: Science_robotgait_124649246.jpg | Asli: sedih      → Prediksi: senang    \n",
      "[2] File: Anger_Controlls_Him.jpg | Asli: marah      → Prediksi: sedih     \n",
      "[3] File: depressed-man-studio-shot-260nw-404652526.jpg | Asli: sedih      → Prediksi: senang    \n",
      "[4] File: where-to-watch-shiny-happy-people.jpg | Asli: senang     → Prediksi: senang    \n",
      "[5] File: angry-people-screaming-260nw-292800785.jpg | Asli: marah      → Prediksi: senang    \n",
      "[6] File: maxresdefault.jpg    | Asli: senang     → Prediksi: senang    \n",
      "[7] File: angry-people-screaming-group-men-women-frustrated-shouting-78341909.jpg | Asli: marah      → Prediksi: marah     \n",
      "[8] File: people-1492052_1920-1024x681.jpg | Asli: sedih      → Prediksi: sedih     \n",
      "[9] File: vector-sad-man-sitting-silhouette.jpg | Asli: sedih      → Prediksi: senang    \n",
      "[10] File: Angry-man-shouting-and-pointing-to-camera-studio-shot.jpg | Asli: marah      → Prediksi: senang    \n",
      "[11] File: Angry-people-2.jpg   | Asli: marah      → Prediksi: sedih     \n",
      "[12] File: Angry-Customer.jpg   | Asli: marah      → Prediksi: senang    \n",
      "[13] File: riskshappypeopletakeh_1384254283.jpg | Asli: senang     → Prediksi: sedih     \n",
      "[14] File: Angry-Person-PNG-Free-Download.png | Asli: marah      → Prediksi: senang    \n",
      "[15] File: 7VR73K6EP5ETVEOUFANWBUYJEQ.jpg | Asli: senang     → Prediksi: senang    \n",
      "[16] File: woman-rage-very-angry-dissatisfied-260nw-524205757.jpg | Asli: marah      → Prediksi: senang    \n",
      "[17] File: happiness.jpg        | Asli: senang     → Prediksi: senang    \n",
      "[18] File: shiny-happy-people.jpg | Asli: senang     → Prediksi: senang    \n",
      "[19] File: png-transparent-boxing-man-people-an-angry-person-the-man.png | Asli: marah      → Prediksi: senang    \n",
      "[20] File: png-clipart-happiness-graphy-smile-happy-people-love-photography.png | Asli: senang     → Prediksi: senang    \n",
      "[21] File: image23.jpeg         | Asli: senang     → Prediksi: sedih     \n",
      "[22] File: image-20160914-4963-19knfh1.jpg | Asli: sedih      → Prediksi: senang    \n",
      "[23] File: anger-can-kill-you-main.jpg | Asli: marah      → Prediksi: senang    \n",
      "[24] File: angry-people-arguing-each-others-35811974.jpg | Asli: marah      → Prediksi: sedih     \n",
      "[25] File: Furious-businessman-talking-to-someone-over-smart-phone-Compressed-496552806.jpeg | Asli: marah      → Prediksi: marah     \n",
      "[26] File: dreamstime_s_101440985.jpg | Asli: sedih      → Prediksi: sedih     \n",
      "[27] File: 56f455011e0000b300705475.jpeg | Asli: senang     → Prediksi: senang    \n",
      "[28] File: flat-of-two-angry-people-vector-18548440.jpg | Asli: marah      → Prediksi: senang    \n",
      "[29] File: secret-signs-of-loneliness-01-1440x810.jpg | Asli: sedih      → Prediksi: senang    \n",
      "[30] File: nm-how-happiness-affects-health-tnail.jpg | Asli: senang     → Prediksi: senang    \n",
      "[31] File: image18.jpeg         | Asli: senang     → Prediksi: senang    \n",
      "[32] File: group-young-happy-people-with-their-hands-up_369728-62.jpg | Asli: senang     → Prediksi: senang    \n",
      "[33] File: sue.jpg              | Asli: sedih      → Prediksi: sedih     \n",
      "[34] File: 0346f330983a068db0633f96d4a13de873-06-angry.rsquare.w700.jpg | Asli: marah      → Prediksi: senang    \n",
      "[35] File: coronavirus-depression-hero.jpg | Asli: sedih      → Prediksi: sedih     \n",
      "[36] File: portrait-smiling-young-friends-walking-260nw-1392193913.jpg | Asli: senang     → Prediksi: sedih     \n",
      "[37] File: images15.jpg         | Asli: marah      → Prediksi: senang    \n",
      "[38] File: dv2051009.jpg        | Asli: senang     → Prediksi: senang    \n",
      "[39] File: 3710928.jpg          | Asli: marah      → Prediksi: sedih     \n",
      "[40] File: friends_190412.jpg   | Asli: senang     → Prediksi: sedih     \n",
      "[41] File: 988689_Wallpaper2.jpg | Asli: senang     → Prediksi: senang    \n",
      "[42] File: angry-man.jpg        | Asli: marah      → Prediksi: sedih     \n",
      "[43] File: kozzi-439500-couple_pointing_each_other-1774x1183.jpg | Asli: marah      → Prediksi: senang    \n",
      "[44] File: Happy.jpg            | Asli: senang     → Prediksi: sedih     \n",
      "[45] File: group-angry-people-quarrel-argue_107791-13981.jpg | Asli: marah      → Prediksi: senang    \n",
      "[46] File: isolated-girl-crying-over-makeup-sad-person-concept-isolated-white-174239618.jpg | Asli: sedih      → Prediksi: senang    \n",
      "[47] File: happy-people12.jpg   | Asli: senang     → Prediksi: senang    \n",
      "[48] File: angry-person-crowd_23-2148405067.jpg | Asli: marah      → Prediksi: sedih     \n",
      "[49] File: blog-2.jpeg          | Asli: senang     → Prediksi: senang    \n",
      "[50] File: file-20230208-27-3jttof.jpg | Asli: senang     → Prediksi: sedih     \n",
      "[51] File: what-to-say-to-someone-whos-depressed.jpg | Asli: sedih      → Prediksi: sedih     \n",
      "[52] File: angry-children.jpg   | Asli: marah      → Prediksi: marah     \n",
      "[53] File: 439-4398363_angry-man-png-pictures-angry-person-png-transparent.png | Asli: marah      → Prediksi: senang    \n",
      "\n",
      "🎯 Akurasi: 41.51%\n"
     ]
    }
   ],
   "source": [
    "if __name__ == \"__main__\":\n",
    "    dataset_path = \"dataset\"\n",
    "    data = load_dataset_binary(dataset_path)\n",
    "    random.shuffle(data)\n",
    "\n",
    "    split = int(0.8 * len(data))\n",
    "    train_data = data[:split]\n",
    "    test_data = data[split:]\n",
    "\n",
    "    model = train_naive_bayes_binary(train_data)\n",
    "    evaluate_binary_model(model, test_data)"
   ]
  }
 ],
 "metadata": {
  "kernelspec": {
   "display_name": "Python 3",
   "language": "python",
   "name": "python3"
  },
  "language_info": {
   "codemirror_mode": {
    "name": "ipython",
    "version": 3
   },
   "file_extension": ".py",
   "mimetype": "text/x-python",
   "name": "python",
   "nbconvert_exporter": "python",
   "pygments_lexer": "ipython3",
   "version": "3.13.2"
  }
 },
 "nbformat": 4,
 "nbformat_minor": 5
}
