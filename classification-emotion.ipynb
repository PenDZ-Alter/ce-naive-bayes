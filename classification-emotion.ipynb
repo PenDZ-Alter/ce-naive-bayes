{
 "cells": [
  {
   "cell_type": "code",
   "execution_count": null,
   "metadata": {},
   "outputs": [
    {
     "name": "stdout",
     "output_type": "stream",
     "text": [
      "              precision    recall  f1-score   support\n",
      "\n",
      "       marah       0.50      0.35      0.41        17\n",
      "       sedih       0.57      0.53      0.55        15\n",
      "      senang       0.63      0.81      0.71        21\n",
      "\n",
      "    accuracy                           0.58        53\n",
      "   macro avg       0.57      0.57      0.56        53\n",
      "weighted avg       0.57      0.58      0.57        53\n",
      "\n"
     ]
    }
   ],
   "source": [
    "import os\n",
    "import cv2\n",
    "import numpy as np\n",
    "from sklearn.naive_bayes import GaussianNB\n",
    "from sklearn.model_selection import train_test_split\n",
    "from sklearn.metrics import classification_report\n",
    "from skimage.feature import hog\n",
    "\n",
    "def extract_features(image_path):\n",
    "    image = cv2.imread(image_path, cv2.IMREAD_GRAYSCALE)\n",
    "    image = cv2.resize(image, (64, 64))  # ubah ukuran\n",
    "    features, _ = hog(image, pixels_per_cell=(8, 8), cells_per_block=(2, 2), visualize=True)\n",
    "    return features\n",
    "\n",
    "# Load dataset\n",
    "def load_dataset(dataset_path):\n",
    "    X, y = [], []\n",
    "    for label in os.listdir(dataset_path):\n",
    "        label_path = os.path.join(dataset_path, label)\n",
    "        for file in os.listdir(label_path):\n",
    "            img_path = os.path.join(label_path, file)\n",
    "            try:\n",
    "                features = extract_features(img_path)\n",
    "                X.append(features)\n",
    "                y.append(label)\n",
    "            except:\n",
    "                continue\n",
    "    return np.array(X), np.array(y)\n",
    "\n",
    "# Main\n",
    "dataset_path = \"dataset\"\n",
    "X, y = load_dataset(dataset_path)\n",
    "\n",
    "# Split dan latih model\n",
    "X_train, X_test, y_train, y_test = train_test_split(X, y, test_size=0.2, random_state=42)\n",
    "model = GaussianNB()\n",
    "model.fit(X_train, y_train)\n",
    "\n",
    "# Evaluasi\n",
    "y_pred = model.predict(X_test)\n",
    "print(classification_report(y_test, y_pred))"
   ]
  }
 ],
 "metadata": {
  "kernelspec": {
   "display_name": "Python 3",
   "language": "python",
   "name": "python3"
  },
  "language_info": {
   "codemirror_mode": {
    "name": "ipython",
    "version": 3
   },
   "file_extension": ".py",
   "mimetype": "text/x-python",
   "name": "python",
   "nbconvert_exporter": "python",
   "pygments_lexer": "ipython3",
   "version": "3.12.8"
  }
 },
 "nbformat": 4,
 "nbformat_minor": 2
}
